{
 "cells": [
  {
   "cell_type": "markdown",
   "metadata": {},
   "source": [
    "# Line Maps \n",
    "\n",
    "The interactive versions of the maps used in Section 6."
   ]
  },
  {
   "cell_type": "code",
   "execution_count": 1,
   "metadata": {},
   "outputs": [
    {
     "name": "stderr",
     "output_type": "stream",
     "text": [
      "/home/lyuba/plotly/lib/python3.5/importlib/_bootstrap.py:222: RuntimeWarning: numpy.dtype size changed, may indicate binary incompatibility. Expected 96, got 88\n",
      "  return f(*args, **kwds)\n",
      "/home/lyuba/plotly/lib/python3.5/importlib/_bootstrap.py:222: RuntimeWarning: numpy.dtype size changed, may indicate binary incompatibility. Expected 96, got 88\n",
      "  return f(*args, **kwds)\n"
     ]
    }
   ],
   "source": [
    "'''\n",
    "Reading pickled files\n",
    "'''\n",
    "\n",
    "import pandas as pd\n",
    "\n",
    "person_dict = pd.read_pickle('./pickled/person_dict.p')\n",
    "attr_df = pd.read_pickle('./pickled/dataframed_attributes.p')"
   ]
  },
  {
   "cell_type": "code",
   "execution_count": 2,
   "metadata": {},
   "outputs": [
    {
     "data": {
      "text/html": [
       "<script>requirejs.config({paths: { 'plotly': ['https://cdn.plot.ly/plotly-latest.min']},});if(!window.Plotly) {{require(['plotly'],function(plotly) {window.Plotly=plotly;});}}</script>"
      ],
      "text/vnd.plotly.v1+html": [
       "<script>requirejs.config({paths: { 'plotly': ['https://cdn.plot.ly/plotly-latest.min']},});if(!window.Plotly) {{require(['plotly'],function(plotly) {window.Plotly=plotly;});}}</script>"
      ]
     },
     "metadata": {},
     "output_type": "display_data"
    }
   ],
   "source": [
    "import plotly.plotly as py\n",
    "import plotly.graph_objs as go\n",
    "from plotly.offline import download_plotlyjs, init_notebook_mode, plot, iplot\n",
    "\n",
    "mapbox_access_token = 'pk.eyJ1IjoibHl1YmEtZGltaXRyb3ZhIiwiYSI6ImNqbG0xdmdxdDEwYXczd25kODI5cHc2YXUifQ.8t0m5MoJW7cBkLQwNBCtAw'\n",
    "init_notebook_mode(connected=True)\n",
    "\n",
    "def create_map(person_name):\n",
    "    \"\"\"\n",
    "    Outputs an interactive map of the significant places for a person.\n",
    "    \n",
    "    Args:\n",
    "    person_name -- str -- The name of the person (case-sensitive).\n",
    "    \"\"\"\n",
    "    person_id = attr_df[attr_df['name'] == person_name].index[0]\n",
    "    print(person_id)\n",
    "    \n",
    "    # every entry in person_dict[person_id]['mapPlaces'] looks like ['City', 45.451718, 54.454542, '3.']\n",
    "    df = pd.DataFrame(person_dict[person_id]['mapPlaces'], columns=['place', 'lat', 'lon', 'code'])\n",
    "    \n",
    "    metadata = attr_df.loc[person_id]\n",
    "    site_lat = df.lat\n",
    "    site_lon = df.lon\n",
    "    locations_name = df.place\n",
    "    color = df.code\n",
    "    \n",
    "    data = [\n",
    "        go.Scattermapbox(\n",
    "            lat=site_lat,\n",
    "            lon=site_lon,\n",
    "            mode='markers+lines',\n",
    "            marker=dict(\n",
    "                size=5,\n",
    "                color=[float(c[:-1]) for c in color],\n",
    "                colorscale=[[0, 'blue'], [1, 'red']],\n",
    "                opacity=0.7,\n",
    "            ),\n",
    "            line=dict(\n",
    "                width=1,\n",
    "            ),\n",
    "            text=locations_name,\n",
    "            hoverinfo='text'\n",
    "        )]\n",
    "\n",
    "    layout = go.Layout(\n",
    "        title='{} ({}-{})'.format(metadata['name'], metadata['birthYear'], metadata['deathYear']),\n",
    "        autosize=False,\n",
    "        width=750,\n",
    "        height=500,\n",
    "        hovermode='closest',\n",
    "        showlegend=False,\n",
    "        mapbox=dict(\n",
    "            accesstoken=mapbox_access_token,\n",
    "            bearing=0,\n",
    "            center=dict(\n",
    "                lat=50,\n",
    "                lon=20\n",
    "            ),\n",
    "            pitch=0,\n",
    "            zoom=2.5,\n",
    "            style='light'\n",
    "        ),\n",
    "    )\n",
    "    \n",
    "    fig = dict(data=data, layout=layout)\n",
    "\n",
    "    return iplot(fig, filename='jupyter-line-map')"
   ]
  },
  {
   "cell_type": "code",
   "execution_count": 3,
   "metadata": {},
   "outputs": [
    {
     "name": "stdout",
     "output_type": "stream",
     "text": [
      "b1316\n"
     ]
    },
    {
     "data": {
      "application/vnd.plotly.v1+json": {
       "data": [
        {
         "hoverinfo": "text",
         "lat": [
          "51.339696",
          "51.339696",
          "50.825889",
          "50.979572",
          "53.551085",
          "51.736015",
          "53.865467",
          "53.2500",
          "51.208611",
          "50.817079",
          "52.390569",
          "50.979493",
          "50.979572"
         ],
         "line": {
          "width": 1
         },
         "lon": [
          "12.373075",
          "12.373075",
          "10.802939",
          "10.314687",
          "9.993682",
          "11.819503",
          "10.686559",
          "10.4000",
          "10.456111",
          "10.586545",
          "13.064473",
          "11.323544",
          "10.314687"
         ],
         "marker": {
          "color": [
           9,
           3.1,
           3,
           3,
           3,
           3,
           3,
           3,
           3,
           3,
           3,
           3,
           1
          ],
          "colorscale": [
           [
            0,
            "blue"
           ],
           [
            1,
            "red"
           ]
          ],
          "opacity": 0.7,
          "size": 5
         },
         "mode": "markers+lines",
         "text": [
          "Leipzig",
          "Leipzig",
          "Arnstadt",
          "Eisenach",
          "Hamburg",
          "Köthen",
          "Lübeck",
          "Lüneburg",
          "Mühlhausen/Thüringen",
          "Ohrdruf",
          "Potsdam",
          "Weimar",
          "Eisenach"
         ],
         "type": "scattermapbox",
         "uid": "e3e4a74a-c3ec-11e8-be30-240a6473f661"
        }
       ],
       "layout": {
        "autosize": false,
        "height": 500,
        "hovermode": "closest",
        "mapbox": {
         "accesstoken": "pk.eyJ1IjoibHl1YmEtZGltaXRyb3ZhIiwiYSI6ImNqbG0xdmdxdDEwYXczd25kODI5cHc2YXUifQ.8t0m5MoJW7cBkLQwNBCtAw",
         "bearing": 0,
         "center": {
          "lat": 50,
          "lon": 20
         },
         "pitch": 0,
         "style": "light",
         "zoom": 2.5
        },
        "showlegend": false,
        "title": "Johann Sebastian Bach (1685-1750)",
        "width": 750
       }
      },
      "text/html": [
       "<div id=\"dd95e84f-ccd1-431d-b566-ceb792ff9012\" style=\"height: 500px; width: 750px;\" class=\"plotly-graph-div\"></div><script type=\"text/javascript\">require([\"plotly\"], function(Plotly) { window.PLOTLYENV=window.PLOTLYENV || {};window.PLOTLYENV.BASE_URL=\"https://plot.ly\";Plotly.newPlot(\"dd95e84f-ccd1-431d-b566-ceb792ff9012\", [{\"text\": [\"Leipzig\", \"Leipzig\", \"Arnstadt\", \"Eisenach\", \"Hamburg\", \"K\\u00f6then\", \"L\\u00fcbeck\", \"L\\u00fcneburg\", \"M\\u00fchlhausen/Th\\u00fcringen\", \"Ohrdruf\", \"Potsdam\", \"Weimar\", \"Eisenach\"], \"uid\": \"e3e4a74b-c3ec-11e8-be30-240a6473f661\", \"mode\": \"markers+lines\", \"hoverinfo\": \"text\", \"line\": {\"width\": 1}, \"marker\": {\"color\": [9.0, 3.1, 3.0, 3.0, 3.0, 3.0, 3.0, 3.0, 3.0, 3.0, 3.0, 3.0, 1.0], \"opacity\": 0.7, \"size\": 5, \"colorscale\": [[0, \"blue\"], [1, \"red\"]]}, \"lat\": [\"51.339696\", \"51.339696\", \"50.825889\", \"50.979572\", \"53.551085\", \"51.736015\", \"53.865467\", \"53.2500\", \"51.208611\", \"50.817079\", \"52.390569\", \"50.979493\", \"50.979572\"], \"type\": \"scattermapbox\", \"lon\": [\"12.373075\", \"12.373075\", \"10.802939\", \"10.314687\", \"9.993682\", \"11.819503\", \"10.686559\", \"10.4000\", \"10.456111\", \"10.586545\", \"13.064473\", \"11.323544\", \"10.314687\"]}], {\"mapbox\": {\"bearing\": 0, \"accesstoken\": \"pk.eyJ1IjoibHl1YmEtZGltaXRyb3ZhIiwiYSI6ImNqbG0xdmdxdDEwYXczd25kODI5cHc2YXUifQ.8t0m5MoJW7cBkLQwNBCtAw\", \"center\": {\"lat\": 50, \"lon\": 20}, \"style\": \"light\", \"pitch\": 0, \"zoom\": 2.5}, \"height\": 500, \"autosize\": false, \"hovermode\": \"closest\", \"showlegend\": false, \"title\": \"Johann Sebastian Bach (1685-1750)\", \"width\": 750}, {\"showLink\": true, \"linkText\": \"Export to plot.ly\"})});</script>"
      ],
      "text/vnd.plotly.v1+html": [
       "<div id=\"dd95e84f-ccd1-431d-b566-ceb792ff9012\" style=\"height: 500px; width: 750px;\" class=\"plotly-graph-div\"></div><script type=\"text/javascript\">require([\"plotly\"], function(Plotly) { window.PLOTLYENV=window.PLOTLYENV || {};window.PLOTLYENV.BASE_URL=\"https://plot.ly\";Plotly.newPlot(\"dd95e84f-ccd1-431d-b566-ceb792ff9012\", [{\"text\": [\"Leipzig\", \"Leipzig\", \"Arnstadt\", \"Eisenach\", \"Hamburg\", \"K\\u00f6then\", \"L\\u00fcbeck\", \"L\\u00fcneburg\", \"M\\u00fchlhausen/Th\\u00fcringen\", \"Ohrdruf\", \"Potsdam\", \"Weimar\", \"Eisenach\"], \"uid\": \"e3e4a74b-c3ec-11e8-be30-240a6473f661\", \"mode\": \"markers+lines\", \"hoverinfo\": \"text\", \"line\": {\"width\": 1}, \"marker\": {\"color\": [9.0, 3.1, 3.0, 3.0, 3.0, 3.0, 3.0, 3.0, 3.0, 3.0, 3.0, 3.0, 1.0], \"opacity\": 0.7, \"size\": 5, \"colorscale\": [[0, \"blue\"], [1, \"red\"]]}, \"lat\": [\"51.339696\", \"51.339696\", \"50.825889\", \"50.979572\", \"53.551085\", \"51.736015\", \"53.865467\", \"53.2500\", \"51.208611\", \"50.817079\", \"52.390569\", \"50.979493\", \"50.979572\"], \"type\": \"scattermapbox\", \"lon\": [\"12.373075\", \"12.373075\", \"10.802939\", \"10.314687\", \"9.993682\", \"11.819503\", \"10.686559\", \"10.4000\", \"10.456111\", \"10.586545\", \"13.064473\", \"11.323544\", \"10.314687\"]}], {\"mapbox\": {\"bearing\": 0, \"accesstoken\": \"pk.eyJ1IjoibHl1YmEtZGltaXRyb3ZhIiwiYSI6ImNqbG0xdmdxdDEwYXczd25kODI5cHc2YXUifQ.8t0m5MoJW7cBkLQwNBCtAw\", \"center\": {\"lat\": 50, \"lon\": 20}, \"style\": \"light\", \"pitch\": 0, \"zoom\": 2.5}, \"height\": 500, \"autosize\": false, \"hovermode\": \"closest\", \"showlegend\": false, \"title\": \"Johann Sebastian Bach (1685-1750)\", \"width\": 750}, {\"showLink\": true, \"linkText\": \"Export to plot.ly\"})});</script>"
      ]
     },
     "metadata": {},
     "output_type": "display_data"
    }
   ],
   "source": [
    "create_map('Johann Sebastian Bach')"
   ]
  },
  {
   "cell_type": "code",
   "execution_count": 4,
   "metadata": {},
   "outputs": [
    {
     "name": "stdout",
     "output_type": "stream",
     "text": [
      "s1916\n"
     ]
    },
    {
     "data": {
      "application/vnd.plotly.v1+json": {
       "data": [
        {
         "hoverinfo": "text",
         "lat": [
          "50.946919",
          "50.946919",
          "48.370545",
          "49.94564",
          "44.496158",
          "51.107885",
          "43.76956",
          "50.885071",
          "51.49698",
          "47.269212",
          "51.339696",
          "48.30694",
          "43.539653",
          "51.137643",
          "49.452102",
          "43.706913",
          "50.075538",
          "41.902784",
          "45.649526",
          "45.440847",
          "51.051049"
         ],
         "line": {
          "width": 1
         },
         "lon": [
          "10.709288",
          "10.709288",
          "10.89779",
          "11.571335",
          "11.339407",
          "17.038538",
          "11.255814",
          "12.08072",
          "11.968803",
          "11.404102",
          "12.373075",
          "14.28583",
          "10.255243",
          "11.620765",
          "11.076665",
          "10.255290",
          "14.4378",
          "12.496366",
          "13.776818",
          "12.315515",
          "12.048607"
         ],
         "marker": {
          "color": [
           9,
           3.1,
           3,
           3,
           3,
           3,
           3,
           3,
           3,
           3,
           3,
           3,
           3,
           3,
           3,
           3,
           3,
           3,
           3,
           3,
           3
          ],
          "colorscale": [
           [
            0,
            "blue"
           ],
           [
            1,
            "red"
           ]
          ],
          "opacity": 0.7,
          "size": 5
         },
         "mode": "markers+lines",
         "text": [
          "Gotha",
          "Gotha",
          "Augsburg",
          "Bayreuth",
          "Bologna",
          "Breslau",
          "Florenz",
          "Gera",
          "Halle",
          "Innsbruck",
          "Leipzig",
          "Linz",
          "Livorno",
          "Naumburg/Saale",
          "Nürnberg",
          "Pisa",
          "Prag",
          "Rom",
          "Triest",
          "Venedig",
          "Zeitz"
         ],
         "type": "scattermapbox",
         "uid": "e3e4a74c-c3ec-11e8-be30-240a6473f661"
        }
       ],
       "layout": {
        "autosize": false,
        "height": 500,
        "hovermode": "closest",
        "mapbox": {
         "accesstoken": "pk.eyJ1IjoibHl1YmEtZGltaXRyb3ZhIiwiYSI6ImNqbG0xdmdxdDEwYXczd25kODI5cHc2YXUifQ.8t0m5MoJW7cBkLQwNBCtAw",
         "bearing": 0,
         "center": {
          "lat": 50,
          "lon": 20
         },
         "pitch": 0,
         "style": "light",
         "zoom": 2.5
        },
        "showlegend": false,
        "title": "Gottfried Heinrich Stölzel (1690-1749)",
        "width": 750
       }
      },
      "text/html": [
       "<div id=\"8e03c1d5-9cac-4f67-9b96-44a2ff454b2f\" style=\"height: 500px; width: 750px;\" class=\"plotly-graph-div\"></div><script type=\"text/javascript\">require([\"plotly\"], function(Plotly) { window.PLOTLYENV=window.PLOTLYENV || {};window.PLOTLYENV.BASE_URL=\"https://plot.ly\";Plotly.newPlot(\"8e03c1d5-9cac-4f67-9b96-44a2ff454b2f\", [{\"text\": [\"Gotha\", \"Gotha\", \"Augsburg\", \"Bayreuth\", \"Bologna\", \"Breslau\", \"Florenz\", \"Gera\", \"Halle\", \"Innsbruck\", \"Leipzig\", \"Linz\", \"Livorno\", \"Naumburg/Saale\", \"N\\u00fcrnberg\", \"Pisa\", \"Prag\", \"Rom\", \"Triest\", \"Venedig\", \"Zeitz\"], \"uid\": \"e3e4a74d-c3ec-11e8-be30-240a6473f661\", \"mode\": \"markers+lines\", \"hoverinfo\": \"text\", \"line\": {\"width\": 1}, \"marker\": {\"color\": [9.0, 3.1, 3.0, 3.0, 3.0, 3.0, 3.0, 3.0, 3.0, 3.0, 3.0, 3.0, 3.0, 3.0, 3.0, 3.0, 3.0, 3.0, 3.0, 3.0, 3.0], \"opacity\": 0.7, \"size\": 5, \"colorscale\": [[0, \"blue\"], [1, \"red\"]]}, \"lat\": [\"50.946919\", \"50.946919\", \"48.370545\", \"49.94564\", \"44.496158\", \"51.107885\", \"43.76956\", \"50.885071\", \"51.49698\", \"47.269212\", \"51.339696\", \"48.30694\", \"43.539653\", \"51.137643\", \"49.452102\", \"43.706913\", \"50.075538\", \"41.902784\", \"45.649526\", \"45.440847\", \"51.051049\"], \"type\": \"scattermapbox\", \"lon\": [\"10.709288\", \"10.709288\", \"10.89779\", \"11.571335\", \"11.339407\", \"17.038538\", \"11.255814\", \"12.08072\", \"11.968803\", \"11.404102\", \"12.373075\", \"14.28583\", \"10.255243\", \"11.620765\", \"11.076665\", \"10.255290\", \"14.4378\", \"12.496366\", \"13.776818\", \"12.315515\", \"12.048607\"]}], {\"mapbox\": {\"bearing\": 0, \"accesstoken\": \"pk.eyJ1IjoibHl1YmEtZGltaXRyb3ZhIiwiYSI6ImNqbG0xdmdxdDEwYXczd25kODI5cHc2YXUifQ.8t0m5MoJW7cBkLQwNBCtAw\", \"center\": {\"lat\": 50, \"lon\": 20}, \"style\": \"light\", \"pitch\": 0, \"zoom\": 2.5}, \"height\": 500, \"autosize\": false, \"hovermode\": \"closest\", \"showlegend\": false, \"title\": \"Gottfried Heinrich St\\u00f6lzel (1690-1749)\", \"width\": 750}, {\"showLink\": true, \"linkText\": \"Export to plot.ly\"})});</script>"
      ],
      "text/vnd.plotly.v1+html": [
       "<div id=\"8e03c1d5-9cac-4f67-9b96-44a2ff454b2f\" style=\"height: 500px; width: 750px;\" class=\"plotly-graph-div\"></div><script type=\"text/javascript\">require([\"plotly\"], function(Plotly) { window.PLOTLYENV=window.PLOTLYENV || {};window.PLOTLYENV.BASE_URL=\"https://plot.ly\";Plotly.newPlot(\"8e03c1d5-9cac-4f67-9b96-44a2ff454b2f\", [{\"text\": [\"Gotha\", \"Gotha\", \"Augsburg\", \"Bayreuth\", \"Bologna\", \"Breslau\", \"Florenz\", \"Gera\", \"Halle\", \"Innsbruck\", \"Leipzig\", \"Linz\", \"Livorno\", \"Naumburg/Saale\", \"N\\u00fcrnberg\", \"Pisa\", \"Prag\", \"Rom\", \"Triest\", \"Venedig\", \"Zeitz\"], \"uid\": \"e3e4a74d-c3ec-11e8-be30-240a6473f661\", \"mode\": \"markers+lines\", \"hoverinfo\": \"text\", \"line\": {\"width\": 1}, \"marker\": {\"color\": [9.0, 3.1, 3.0, 3.0, 3.0, 3.0, 3.0, 3.0, 3.0, 3.0, 3.0, 3.0, 3.0, 3.0, 3.0, 3.0, 3.0, 3.0, 3.0, 3.0, 3.0], \"opacity\": 0.7, \"size\": 5, \"colorscale\": [[0, \"blue\"], [1, \"red\"]]}, \"lat\": [\"50.946919\", \"50.946919\", \"48.370545\", \"49.94564\", \"44.496158\", \"51.107885\", \"43.76956\", \"50.885071\", \"51.49698\", \"47.269212\", \"51.339696\", \"48.30694\", \"43.539653\", \"51.137643\", \"49.452102\", \"43.706913\", \"50.075538\", \"41.902784\", \"45.649526\", \"45.440847\", \"51.051049\"], \"type\": \"scattermapbox\", \"lon\": [\"10.709288\", \"10.709288\", \"10.89779\", \"11.571335\", \"11.339407\", \"17.038538\", \"11.255814\", \"12.08072\", \"11.968803\", \"11.404102\", \"12.373075\", \"14.28583\", \"10.255243\", \"11.620765\", \"11.076665\", \"10.255290\", \"14.4378\", \"12.496366\", \"13.776818\", \"12.315515\", \"12.048607\"]}], {\"mapbox\": {\"bearing\": 0, \"accesstoken\": \"pk.eyJ1IjoibHl1YmEtZGltaXRyb3ZhIiwiYSI6ImNqbG0xdmdxdDEwYXczd25kODI5cHc2YXUifQ.8t0m5MoJW7cBkLQwNBCtAw\", \"center\": {\"lat\": 50, \"lon\": 20}, \"style\": \"light\", \"pitch\": 0, \"zoom\": 2.5}, \"height\": 500, \"autosize\": false, \"hovermode\": \"closest\", \"showlegend\": false, \"title\": \"Gottfried Heinrich St\\u00f6lzel (1690-1749)\", \"width\": 750}, {\"showLink\": true, \"linkText\": \"Export to plot.ly\"})});</script>"
      ]
     },
     "metadata": {},
     "output_type": "display_data"
    }
   ],
   "source": [
    "create_map('Gottfried Heinrich Stölzel')"
   ]
  },
  {
   "cell_type": "code",
   "execution_count": 5,
   "metadata": {},
   "outputs": [
    {
     "name": "stdout",
     "output_type": "stream",
     "text": [
      "m0914\n"
     ]
    },
    {
     "data": {
      "application/vnd.plotly.v1+json": {
       "data": [
        {
         "hoverinfo": "text",
         "lat": [
          "48.208174",
          "47.80949",
          "48.208174",
          "52.370216",
          "52.520007",
          "44.496158",
          "50.110922",
          "51.507351",
          "45.464204",
          "49.487459",
          "48.135125",
          "48.856614",
          "48.566736",
          "52.390569",
          "50.075538",
          "48.886972",
          "47.80949"
         ],
         "line": {
          "width": 1
         },
         "lon": [
          "16.373819",
          "13.05501",
          "16.373819",
          "4.895168",
          "13.404954",
          "11.339407",
          "8.682127",
          "-0.127758",
          "9.189982",
          "8.466039",
          "11.58198",
          "2.352222",
          "13.431947",
          "13.064473",
          "14.4378",
          "10.476966",
          "13.05501"
         ],
         "marker": {
          "color": [
           9,
           3.1,
           3.1,
           3,
           3,
           3,
           3,
           3,
           3,
           3,
           3,
           3,
           3,
           3,
           3,
           3,
           1
          ],
          "colorscale": [
           [
            0,
            "blue"
           ],
           [
            1,
            "red"
           ]
          ],
          "opacity": 0.7,
          "size": 5
         },
         "mode": "markers+lines",
         "text": [
          "Wien",
          "Salzburg",
          "Wien",
          "Amsterdam",
          "Berlin",
          "Bologna",
          "Frankfurt/Main",
          "London",
          "Mailand",
          "Mannheim",
          "München",
          "Paris",
          "Passau",
          "Potsdam",
          "Prag",
          "Wallerstein",
          "Salzburg"
         ],
         "type": "scattermapbox",
         "uid": "e3e4a74e-c3ec-11e8-be30-240a6473f661"
        }
       ],
       "layout": {
        "autosize": false,
        "height": 500,
        "hovermode": "closest",
        "mapbox": {
         "accesstoken": "pk.eyJ1IjoibHl1YmEtZGltaXRyb3ZhIiwiYSI6ImNqbG0xdmdxdDEwYXczd25kODI5cHc2YXUifQ.8t0m5MoJW7cBkLQwNBCtAw",
         "bearing": 0,
         "center": {
          "lat": 50,
          "lon": 20
         },
         "pitch": 0,
         "style": "light",
         "zoom": 2.5
        },
        "showlegend": false,
        "title": "Wolfgang Amadeus Mozart (1756-1791)",
        "width": 750
       }
      },
      "text/html": [
       "<div id=\"9f471cbc-3e40-47f0-a9ee-d58eed0b78b6\" style=\"height: 500px; width: 750px;\" class=\"plotly-graph-div\"></div><script type=\"text/javascript\">require([\"plotly\"], function(Plotly) { window.PLOTLYENV=window.PLOTLYENV || {};window.PLOTLYENV.BASE_URL=\"https://plot.ly\";Plotly.newPlot(\"9f471cbc-3e40-47f0-a9ee-d58eed0b78b6\", [{\"text\": [\"Wien\", \"Salzburg\", \"Wien\", \"Amsterdam\", \"Berlin\", \"Bologna\", \"Frankfurt/Main\", \"London\", \"Mailand\", \"Mannheim\", \"M\\u00fcnchen\", \"Paris\", \"Passau\", \"Potsdam\", \"Prag\", \"Wallerstein\", \"Salzburg\"], \"uid\": \"e3e4a74f-c3ec-11e8-be30-240a6473f661\", \"mode\": \"markers+lines\", \"hoverinfo\": \"text\", \"line\": {\"width\": 1}, \"marker\": {\"color\": [9.0, 3.1, 3.1, 3.0, 3.0, 3.0, 3.0, 3.0, 3.0, 3.0, 3.0, 3.0, 3.0, 3.0, 3.0, 3.0, 1.0], \"opacity\": 0.7, \"size\": 5, \"colorscale\": [[0, \"blue\"], [1, \"red\"]]}, \"lat\": [\"48.208174\", \"47.80949\", \"48.208174\", \"52.370216\", \"52.520007\", \"44.496158\", \"50.110922\", \"51.507351\", \"45.464204\", \"49.487459\", \"48.135125\", \"48.856614\", \"48.566736\", \"52.390569\", \"50.075538\", \"48.886972\", \"47.80949\"], \"type\": \"scattermapbox\", \"lon\": [\"16.373819\", \"13.05501\", \"16.373819\", \"4.895168\", \"13.404954\", \"11.339407\", \"8.682127\", \"-0.127758\", \"9.189982\", \"8.466039\", \"11.58198\", \"2.352222\", \"13.431947\", \"13.064473\", \"14.4378\", \"10.476966\", \"13.05501\"]}], {\"mapbox\": {\"bearing\": 0, \"accesstoken\": \"pk.eyJ1IjoibHl1YmEtZGltaXRyb3ZhIiwiYSI6ImNqbG0xdmdxdDEwYXczd25kODI5cHc2YXUifQ.8t0m5MoJW7cBkLQwNBCtAw\", \"center\": {\"lat\": 50, \"lon\": 20}, \"style\": \"light\", \"pitch\": 0, \"zoom\": 2.5}, \"height\": 500, \"autosize\": false, \"hovermode\": \"closest\", \"showlegend\": false, \"title\": \"Wolfgang Amadeus Mozart (1756-1791)\", \"width\": 750}, {\"showLink\": true, \"linkText\": \"Export to plot.ly\"})});</script>"
      ],
      "text/vnd.plotly.v1+html": [
       "<div id=\"9f471cbc-3e40-47f0-a9ee-d58eed0b78b6\" style=\"height: 500px; width: 750px;\" class=\"plotly-graph-div\"></div><script type=\"text/javascript\">require([\"plotly\"], function(Plotly) { window.PLOTLYENV=window.PLOTLYENV || {};window.PLOTLYENV.BASE_URL=\"https://plot.ly\";Plotly.newPlot(\"9f471cbc-3e40-47f0-a9ee-d58eed0b78b6\", [{\"text\": [\"Wien\", \"Salzburg\", \"Wien\", \"Amsterdam\", \"Berlin\", \"Bologna\", \"Frankfurt/Main\", \"London\", \"Mailand\", \"Mannheim\", \"M\\u00fcnchen\", \"Paris\", \"Passau\", \"Potsdam\", \"Prag\", \"Wallerstein\", \"Salzburg\"], \"uid\": \"e3e4a74f-c3ec-11e8-be30-240a6473f661\", \"mode\": \"markers+lines\", \"hoverinfo\": \"text\", \"line\": {\"width\": 1}, \"marker\": {\"color\": [9.0, 3.1, 3.1, 3.0, 3.0, 3.0, 3.0, 3.0, 3.0, 3.0, 3.0, 3.0, 3.0, 3.0, 3.0, 3.0, 1.0], \"opacity\": 0.7, \"size\": 5, \"colorscale\": [[0, \"blue\"], [1, \"red\"]]}, \"lat\": [\"48.208174\", \"47.80949\", \"48.208174\", \"52.370216\", \"52.520007\", \"44.496158\", \"50.110922\", \"51.507351\", \"45.464204\", \"49.487459\", \"48.135125\", \"48.856614\", \"48.566736\", \"52.390569\", \"50.075538\", \"48.886972\", \"47.80949\"], \"type\": \"scattermapbox\", \"lon\": [\"16.373819\", \"13.05501\", \"16.373819\", \"4.895168\", \"13.404954\", \"11.339407\", \"8.682127\", \"-0.127758\", \"9.189982\", \"8.466039\", \"11.58198\", \"2.352222\", \"13.431947\", \"13.064473\", \"14.4378\", \"10.476966\", \"13.05501\"]}], {\"mapbox\": {\"bearing\": 0, \"accesstoken\": \"pk.eyJ1IjoibHl1YmEtZGltaXRyb3ZhIiwiYSI6ImNqbG0xdmdxdDEwYXczd25kODI5cHc2YXUifQ.8t0m5MoJW7cBkLQwNBCtAw\", \"center\": {\"lat\": 50, \"lon\": 20}, \"style\": \"light\", \"pitch\": 0, \"zoom\": 2.5}, \"height\": 500, \"autosize\": false, \"hovermode\": \"closest\", \"showlegend\": false, \"title\": \"Wolfgang Amadeus Mozart (1756-1791)\", \"width\": 750}, {\"showLink\": true, \"linkText\": \"Export to plot.ly\"})});</script>"
      ]
     },
     "metadata": {},
     "output_type": "display_data"
    }
   ],
   "source": [
    "create_map('Wolfgang Amadeus Mozart')"
   ]
  },
  {
   "cell_type": "code",
   "execution_count": 6,
   "metadata": {},
   "outputs": [
    {
     "name": "stdout",
     "output_type": "stream",
     "text": [
      "r0801\n"
     ]
    },
    {
     "data": {
      "application/vnd.plotly.v1+json": {
       "data": [
        {
         "hoverinfo": "text",
         "lat": [
          "53.324491",
          "49.300425",
          "48.370545",
          "52.520007",
          "49.872825",
          "50.110922",
          "50.946919",
          "53.324491",
          "49.992862",
          "48.135125",
          "49.593778",
          "48.856614",
          "50.075538",
          "61.52401",
          "49.317277",
          "48.886972",
          "50.979493",
          "48.855278"
         ],
         "line": {
          "width": 1
         },
         "lon": [
          "11.496924",
          "10.275124",
          "10.89779",
          "13.404954",
          "8.651193",
          "8.682127",
          "10.709288",
          "11.496924",
          "8.247253",
          "11.58198",
          "17.250879",
          "2.352222",
          "14.4378",
          "105.31875",
          "8.441217",
          "10.476966",
          "11.323544",
          "16.048611"
         ],
         "marker": {
          "color": [
           9,
           3,
           3,
           3,
           3,
           3,
           3,
           3,
           3,
           3,
           3,
           3,
           3,
           3,
           3,
           3,
           3,
           3
          ],
          "colorscale": [
           [
            0,
            "blue"
           ],
           [
            1,
            "red"
           ]
          ],
          "opacity": 0.7,
          "size": 5
         },
         "mode": "markers+lines",
         "text": [
          "Ludwigslust",
          "Ansbach",
          "Augsburg",
          "Berlin",
          "Darmstadt",
          "Frankfurt/Main",
          "Gotha",
          "Ludwigslust",
          "Mainz",
          "München",
          "Olmütz",
          "Paris",
          "Prag",
          "Russland",
          "Speyer",
          "Wallerstein",
          "Weimar",
          "Znaim"
         ],
         "type": "scattermapbox",
         "uid": "e3e4a750-c3ec-11e8-be30-240a6473f661"
        }
       ],
       "layout": {
        "autosize": false,
        "height": 500,
        "hovermode": "closest",
        "mapbox": {
         "accesstoken": "pk.eyJ1IjoibHl1YmEtZGltaXRyb3ZhIiwiYSI6ImNqbG0xdmdxdDEwYXczd25kODI5cHc2YXUifQ.8t0m5MoJW7cBkLQwNBCtAw",
         "bearing": 0,
         "center": {
          "lat": 50,
          "lon": 20
         },
         "pitch": 0,
         "style": "light",
         "zoom": 2.5
        },
        "showlegend": false,
        "title": "Francesco Antonio Rosetti (1750-1792)",
        "width": 750
       }
      },
      "text/html": [
       "<div id=\"e272a951-a018-4897-820e-d582a3f57a13\" style=\"height: 500px; width: 750px;\" class=\"plotly-graph-div\"></div><script type=\"text/javascript\">require([\"plotly\"], function(Plotly) { window.PLOTLYENV=window.PLOTLYENV || {};window.PLOTLYENV.BASE_URL=\"https://plot.ly\";Plotly.newPlot(\"e272a951-a018-4897-820e-d582a3f57a13\", [{\"text\": [\"Ludwigslust\", \"Ansbach\", \"Augsburg\", \"Berlin\", \"Darmstadt\", \"Frankfurt/Main\", \"Gotha\", \"Ludwigslust\", \"Mainz\", \"M\\u00fcnchen\", \"Olm\\u00fctz\", \"Paris\", \"Prag\", \"Russland\", \"Speyer\", \"Wallerstein\", \"Weimar\", \"Znaim\"], \"uid\": \"e3e4a751-c3ec-11e8-be30-240a6473f661\", \"mode\": \"markers+lines\", \"hoverinfo\": \"text\", \"line\": {\"width\": 1}, \"marker\": {\"color\": [9.0, 3.0, 3.0, 3.0, 3.0, 3.0, 3.0, 3.0, 3.0, 3.0, 3.0, 3.0, 3.0, 3.0, 3.0, 3.0, 3.0, 3.0], \"opacity\": 0.7, \"size\": 5, \"colorscale\": [[0, \"blue\"], [1, \"red\"]]}, \"lat\": [\"53.324491\", \"49.300425\", \"48.370545\", \"52.520007\", \"49.872825\", \"50.110922\", \"50.946919\", \"53.324491\", \"49.992862\", \"48.135125\", \"49.593778\", \"48.856614\", \"50.075538\", \"61.52401\", \"49.317277\", \"48.886972\", \"50.979493\", \"48.855278\"], \"type\": \"scattermapbox\", \"lon\": [\"11.496924\", \"10.275124\", \"10.89779\", \"13.404954\", \"8.651193\", \"8.682127\", \"10.709288\", \"11.496924\", \"8.247253\", \"11.58198\", \"17.250879\", \"2.352222\", \"14.4378\", \"105.31875\", \"8.441217\", \"10.476966\", \"11.323544\", \"16.048611\"]}], {\"mapbox\": {\"bearing\": 0, \"accesstoken\": \"pk.eyJ1IjoibHl1YmEtZGltaXRyb3ZhIiwiYSI6ImNqbG0xdmdxdDEwYXczd25kODI5cHc2YXUifQ.8t0m5MoJW7cBkLQwNBCtAw\", \"center\": {\"lat\": 50, \"lon\": 20}, \"style\": \"light\", \"pitch\": 0, \"zoom\": 2.5}, \"height\": 500, \"autosize\": false, \"hovermode\": \"closest\", \"showlegend\": false, \"title\": \"Francesco Antonio Rosetti (1750-1792)\", \"width\": 750}, {\"showLink\": true, \"linkText\": \"Export to plot.ly\"})});</script>"
      ],
      "text/vnd.plotly.v1+html": [
       "<div id=\"e272a951-a018-4897-820e-d582a3f57a13\" style=\"height: 500px; width: 750px;\" class=\"plotly-graph-div\"></div><script type=\"text/javascript\">require([\"plotly\"], function(Plotly) { window.PLOTLYENV=window.PLOTLYENV || {};window.PLOTLYENV.BASE_URL=\"https://plot.ly\";Plotly.newPlot(\"e272a951-a018-4897-820e-d582a3f57a13\", [{\"text\": [\"Ludwigslust\", \"Ansbach\", \"Augsburg\", \"Berlin\", \"Darmstadt\", \"Frankfurt/Main\", \"Gotha\", \"Ludwigslust\", \"Mainz\", \"M\\u00fcnchen\", \"Olm\\u00fctz\", \"Paris\", \"Prag\", \"Russland\", \"Speyer\", \"Wallerstein\", \"Weimar\", \"Znaim\"], \"uid\": \"e3e4a751-c3ec-11e8-be30-240a6473f661\", \"mode\": \"markers+lines\", \"hoverinfo\": \"text\", \"line\": {\"width\": 1}, \"marker\": {\"color\": [9.0, 3.0, 3.0, 3.0, 3.0, 3.0, 3.0, 3.0, 3.0, 3.0, 3.0, 3.0, 3.0, 3.0, 3.0, 3.0, 3.0, 3.0], \"opacity\": 0.7, \"size\": 5, \"colorscale\": [[0, \"blue\"], [1, \"red\"]]}, \"lat\": [\"53.324491\", \"49.300425\", \"48.370545\", \"52.520007\", \"49.872825\", \"50.110922\", \"50.946919\", \"53.324491\", \"49.992862\", \"48.135125\", \"49.593778\", \"48.856614\", \"50.075538\", \"61.52401\", \"49.317277\", \"48.886972\", \"50.979493\", \"48.855278\"], \"type\": \"scattermapbox\", \"lon\": [\"11.496924\", \"10.275124\", \"10.89779\", \"13.404954\", \"8.651193\", \"8.682127\", \"10.709288\", \"11.496924\", \"8.247253\", \"11.58198\", \"17.250879\", \"2.352222\", \"14.4378\", \"105.31875\", \"8.441217\", \"10.476966\", \"11.323544\", \"16.048611\"]}], {\"mapbox\": {\"bearing\": 0, \"accesstoken\": \"pk.eyJ1IjoibHl1YmEtZGltaXRyb3ZhIiwiYSI6ImNqbG0xdmdxdDEwYXczd25kODI5cHc2YXUifQ.8t0m5MoJW7cBkLQwNBCtAw\", \"center\": {\"lat\": 50, \"lon\": 20}, \"style\": \"light\", \"pitch\": 0, \"zoom\": 2.5}, \"height\": 500, \"autosize\": false, \"hovermode\": \"closest\", \"showlegend\": false, \"title\": \"Francesco Antonio Rosetti (1750-1792)\", \"width\": 750}, {\"showLink\": true, \"linkText\": \"Export to plot.ly\"})});</script>"
      ]
     },
     "metadata": {},
     "output_type": "display_data"
    }
   ],
   "source": [
    "create_map('Francesco Antonio Rosetti')"
   ]
  },
  {
   "cell_type": "code",
   "execution_count": 7,
   "metadata": {},
   "outputs": [
    {
     "name": "stdout",
     "output_type": "stream",
     "text": [
      "b0339\n"
     ]
    },
    {
     "data": {
      "application/vnd.plotly.v1+json": {
       "data": [
        {
         "hoverinfo": "text",
         "lat": [
          "48.208174",
          "48.208174",
          "49.980663",
          "49.458929",
          "52.520007",
          "50.73743",
          "51.050409",
          "50.125359",
          "50.231852",
          "50.356943",
          "50.937531",
          "48.30694",
          "50.420057",
          "49.452102",
          "50.075538",
          "51.92442",
          "50.644458",
          "49.94066",
          "48.886972",
          "48.208174",
          "50.73743"
         ],
         "line": {
          "width": 1
         },
         "lon": [
          "16.373819",
          "16.373819",
          "9.135555",
          "9.6397302",
          "13.404954",
          "7.098207",
          "13.737262",
          "12.198489",
          "12.871962",
          "7.588996",
          "6.960279",
          "14.28583",
          "7.6670186",
          "11.076665",
          "14.4378",
          "4.477733",
          "13.835284",
          "17.894799",
          "10.476966",
          "16.373819",
          "7.098207"
         ],
         "marker": {
          "color": [
           9,
           3.1,
           3,
           3,
           3,
           3,
           3,
           3,
           3,
           3,
           3,
           3,
           3,
           3,
           3,
           3,
           3,
           3,
           3,
           3,
           1
          ],
          "colorscale": [
           [
            0,
            "blue"
           ],
           [
            1,
            "red"
           ]
          ],
          "opacity": 0.7,
          "size": 5
         },
         "mode": "markers+lines",
         "text": [
          "Wien",
          "Wien",
          "Aschaffenburg",
          "Bad Mergentheim",
          "Berlin",
          "Bonn",
          "Dresden",
          "Franzensbad",
          "Karlsbad",
          "Koblenz",
          "Köln",
          "Linz",
          "Montabaur",
          "Nürnberg",
          "Prag",
          "Rotterdam",
          "Teplitz",
          "Troppau",
          "Wallerstein",
          "Wien",
          "Bonn"
         ],
         "type": "scattermapbox",
         "uid": "e3e4a752-c3ec-11e8-be30-240a6473f661"
        }
       ],
       "layout": {
        "autosize": false,
        "height": 500,
        "hovermode": "closest",
        "mapbox": {
         "accesstoken": "pk.eyJ1IjoibHl1YmEtZGltaXRyb3ZhIiwiYSI6ImNqbG0xdmdxdDEwYXczd25kODI5cHc2YXUifQ.8t0m5MoJW7cBkLQwNBCtAw",
         "bearing": 0,
         "center": {
          "lat": 50,
          "lon": 20
         },
         "pitch": 0,
         "style": "light",
         "zoom": 2.5
        },
        "showlegend": false,
        "title": "Ludwig van Beethoven (1770-1827)",
        "width": 750
       }
      },
      "text/html": [
       "<div id=\"62c82b66-8607-4e51-8940-97f9ce8ea086\" style=\"height: 500px; width: 750px;\" class=\"plotly-graph-div\"></div><script type=\"text/javascript\">require([\"plotly\"], function(Plotly) { window.PLOTLYENV=window.PLOTLYENV || {};window.PLOTLYENV.BASE_URL=\"https://plot.ly\";Plotly.newPlot(\"62c82b66-8607-4e51-8940-97f9ce8ea086\", [{\"text\": [\"Wien\", \"Wien\", \"Aschaffenburg\", \"Bad Mergentheim\", \"Berlin\", \"Bonn\", \"Dresden\", \"Franzensbad\", \"Karlsbad\", \"Koblenz\", \"K\\u00f6ln\", \"Linz\", \"Montabaur\", \"N\\u00fcrnberg\", \"Prag\", \"Rotterdam\", \"Teplitz\", \"Troppau\", \"Wallerstein\", \"Wien\", \"Bonn\"], \"uid\": \"e3e4a753-c3ec-11e8-be30-240a6473f661\", \"mode\": \"markers+lines\", \"hoverinfo\": \"text\", \"line\": {\"width\": 1}, \"marker\": {\"color\": [9.0, 3.1, 3.0, 3.0, 3.0, 3.0, 3.0, 3.0, 3.0, 3.0, 3.0, 3.0, 3.0, 3.0, 3.0, 3.0, 3.0, 3.0, 3.0, 3.0, 1.0], \"opacity\": 0.7, \"size\": 5, \"colorscale\": [[0, \"blue\"], [1, \"red\"]]}, \"lat\": [\"48.208174\", \"48.208174\", \"49.980663\", \"49.458929\", \"52.520007\", \"50.73743\", \"51.050409\", \"50.125359\", \"50.231852\", \"50.356943\", \"50.937531\", \"48.30694\", \"50.420057\", \"49.452102\", \"50.075538\", \"51.92442\", \"50.644458\", \"49.94066\", \"48.886972\", \"48.208174\", \"50.73743\"], \"type\": \"scattermapbox\", \"lon\": [\"16.373819\", \"16.373819\", \"9.135555\", \"9.6397302\", \"13.404954\", \"7.098207\", \"13.737262\", \"12.198489\", \"12.871962\", \"7.588996\", \"6.960279\", \"14.28583\", \"7.6670186\", \"11.076665\", \"14.4378\", \"4.477733\", \"13.835284\", \"17.894799\", \"10.476966\", \"16.373819\", \"7.098207\"]}], {\"mapbox\": {\"bearing\": 0, \"accesstoken\": \"pk.eyJ1IjoibHl1YmEtZGltaXRyb3ZhIiwiYSI6ImNqbG0xdmdxdDEwYXczd25kODI5cHc2YXUifQ.8t0m5MoJW7cBkLQwNBCtAw\", \"center\": {\"lat\": 50, \"lon\": 20}, \"style\": \"light\", \"pitch\": 0, \"zoom\": 2.5}, \"height\": 500, \"autosize\": false, \"hovermode\": \"closest\", \"showlegend\": false, \"title\": \"Ludwig van Beethoven (1770-1827)\", \"width\": 750}, {\"showLink\": true, \"linkText\": \"Export to plot.ly\"})});</script>"
      ],
      "text/vnd.plotly.v1+html": [
       "<div id=\"62c82b66-8607-4e51-8940-97f9ce8ea086\" style=\"height: 500px; width: 750px;\" class=\"plotly-graph-div\"></div><script type=\"text/javascript\">require([\"plotly\"], function(Plotly) { window.PLOTLYENV=window.PLOTLYENV || {};window.PLOTLYENV.BASE_URL=\"https://plot.ly\";Plotly.newPlot(\"62c82b66-8607-4e51-8940-97f9ce8ea086\", [{\"text\": [\"Wien\", \"Wien\", \"Aschaffenburg\", \"Bad Mergentheim\", \"Berlin\", \"Bonn\", \"Dresden\", \"Franzensbad\", \"Karlsbad\", \"Koblenz\", \"K\\u00f6ln\", \"Linz\", \"Montabaur\", \"N\\u00fcrnberg\", \"Prag\", \"Rotterdam\", \"Teplitz\", \"Troppau\", \"Wallerstein\", \"Wien\", \"Bonn\"], \"uid\": \"e3e4a753-c3ec-11e8-be30-240a6473f661\", \"mode\": \"markers+lines\", \"hoverinfo\": \"text\", \"line\": {\"width\": 1}, \"marker\": {\"color\": [9.0, 3.1, 3.0, 3.0, 3.0, 3.0, 3.0, 3.0, 3.0, 3.0, 3.0, 3.0, 3.0, 3.0, 3.0, 3.0, 3.0, 3.0, 3.0, 3.0, 1.0], \"opacity\": 0.7, \"size\": 5, \"colorscale\": [[0, \"blue\"], [1, \"red\"]]}, \"lat\": [\"48.208174\", \"48.208174\", \"49.980663\", \"49.458929\", \"52.520007\", \"50.73743\", \"51.050409\", \"50.125359\", \"50.231852\", \"50.356943\", \"50.937531\", \"48.30694\", \"50.420057\", \"49.452102\", \"50.075538\", \"51.92442\", \"50.644458\", \"49.94066\", \"48.886972\", \"48.208174\", \"50.73743\"], \"type\": \"scattermapbox\", \"lon\": [\"16.373819\", \"16.373819\", \"9.135555\", \"9.6397302\", \"13.404954\", \"7.098207\", \"13.737262\", \"12.198489\", \"12.871962\", \"7.588996\", \"6.960279\", \"14.28583\", \"7.6670186\", \"11.076665\", \"14.4378\", \"4.477733\", \"13.835284\", \"17.894799\", \"10.476966\", \"16.373819\", \"7.098207\"]}], {\"mapbox\": {\"bearing\": 0, \"accesstoken\": \"pk.eyJ1IjoibHl1YmEtZGltaXRyb3ZhIiwiYSI6ImNqbG0xdmdxdDEwYXczd25kODI5cHc2YXUifQ.8t0m5MoJW7cBkLQwNBCtAw\", \"center\": {\"lat\": 50, \"lon\": 20}, \"style\": \"light\", \"pitch\": 0, \"zoom\": 2.5}, \"height\": 500, \"autosize\": false, \"hovermode\": \"closest\", \"showlegend\": false, \"title\": \"Ludwig van Beethoven (1770-1827)\", \"width\": 750}, {\"showLink\": true, \"linkText\": \"Export to plot.ly\"})});</script>"
      ]
     },
     "metadata": {},
     "output_type": "display_data"
    }
   ],
   "source": [
    "create_map('Ludwig van Beethoven')"
   ]
  },
  {
   "cell_type": "code",
   "execution_count": 8,
   "metadata": {},
   "outputs": [
    {
     "name": "stdout",
     "output_type": "stream",
     "text": [
      "s1735\n"
     ]
    },
    {
     "data": {
      "application/vnd.plotly.v1+json": {
       "data": [
        {
         "hoverinfo": "text",
         "lat": [
          "59.93428",
          "52.520007",
          "51.107885",
          "51.050409",
          "50.110922",
          "52.375892",
          "51.339696",
          "51.507351",
          "55.755826",
          "48.135125",
          "48.856614",
          "50.075538",
          "56.949649",
          "51",
          "59.93428",
          "54.6833",
          "52.229676",
          "48.208174",
          "52.520007"
         ],
         "line": {
          "width": 1
         },
         "lon": [
          "30.335099",
          "13.404954",
          "17.038538",
          "13.737262",
          "8.682127",
          "9.73201",
          "12.373075",
          "-0.127758",
          "37.6173",
          "11.58198",
          "2.352222",
          "14.4378",
          "24.105186",
          "13.25",
          "30.335099",
          "25.2667",
          "21.012229",
          "16.373819",
          "13.404954"
         ],
         "marker": {
          "color": [
           9,
           3,
           3,
           3,
           3,
           3,
           3,
           3,
           3,
           3,
           3,
           3,
           3,
           3,
           3,
           3,
           3,
           3,
           1
          ],
          "colorscale": [
           [
            0,
            "blue"
           ],
           [
            1,
            "red"
           ]
          ],
          "opacity": 0.7,
          "size": 5
         },
         "mode": "markers+lines",
         "text": [
          "St. Petersburg",
          "Berlin",
          "Breslau",
          "Dresden",
          "Frankfurt/Main",
          "Hannover",
          "Leipzig",
          "London",
          "Moskau",
          "München",
          "Paris",
          "Prag",
          "Riga",
          "Sachsen",
          "St. Petersburg",
          "Vilnius",
          "Warschau",
          "Wien",
          "Berlin"
         ],
         "type": "scattermapbox",
         "uid": "e3e4a754-c3ec-11e8-be30-240a6473f661"
        }
       ],
       "layout": {
        "autosize": false,
        "height": 500,
        "hovermode": "closest",
        "mapbox": {
         "accesstoken": "pk.eyJ1IjoibHl1YmEtZGltaXRyb3ZhIiwiYSI6ImNqbG0xdmdxdDEwYXczd25kODI5cHc2YXUifQ.8t0m5MoJW7cBkLQwNBCtAw",
         "bearing": 0,
         "center": {
          "lat": 50,
          "lon": 20
         },
         "pitch": 0,
         "style": "light",
         "zoom": 2.5
        },
        "showlegend": false,
        "title": "Daniel Gottlieb Steibelt (1765-1823)",
        "width": 750
       }
      },
      "text/html": [
       "<div id=\"223a77eb-80a2-4014-98fd-95fb775e4636\" style=\"height: 500px; width: 750px;\" class=\"plotly-graph-div\"></div><script type=\"text/javascript\">require([\"plotly\"], function(Plotly) { window.PLOTLYENV=window.PLOTLYENV || {};window.PLOTLYENV.BASE_URL=\"https://plot.ly\";Plotly.newPlot(\"223a77eb-80a2-4014-98fd-95fb775e4636\", [{\"text\": [\"St. Petersburg\", \"Berlin\", \"Breslau\", \"Dresden\", \"Frankfurt/Main\", \"Hannover\", \"Leipzig\", \"London\", \"Moskau\", \"M\\u00fcnchen\", \"Paris\", \"Prag\", \"Riga\", \"Sachsen\", \"St. Petersburg\", \"Vilnius\", \"Warschau\", \"Wien\", \"Berlin\"], \"uid\": \"e3e4a755-c3ec-11e8-be30-240a6473f661\", \"mode\": \"markers+lines\", \"hoverinfo\": \"text\", \"line\": {\"width\": 1}, \"marker\": {\"color\": [9.0, 3.0, 3.0, 3.0, 3.0, 3.0, 3.0, 3.0, 3.0, 3.0, 3.0, 3.0, 3.0, 3.0, 3.0, 3.0, 3.0, 3.0, 1.0], \"opacity\": 0.7, \"size\": 5, \"colorscale\": [[0, \"blue\"], [1, \"red\"]]}, \"lat\": [\"59.93428\", \"52.520007\", \"51.107885\", \"51.050409\", \"50.110922\", \"52.375892\", \"51.339696\", \"51.507351\", \"55.755826\", \"48.135125\", \"48.856614\", \"50.075538\", \"56.949649\", \"51\", \"59.93428\", \"54.6833\", \"52.229676\", \"48.208174\", \"52.520007\"], \"type\": \"scattermapbox\", \"lon\": [\"30.335099\", \"13.404954\", \"17.038538\", \"13.737262\", \"8.682127\", \"9.73201\", \"12.373075\", \"-0.127758\", \"37.6173\", \"11.58198\", \"2.352222\", \"14.4378\", \"24.105186\", \"13.25\", \"30.335099\", \"25.2667\", \"21.012229\", \"16.373819\", \"13.404954\"]}], {\"mapbox\": {\"bearing\": 0, \"accesstoken\": \"pk.eyJ1IjoibHl1YmEtZGltaXRyb3ZhIiwiYSI6ImNqbG0xdmdxdDEwYXczd25kODI5cHc2YXUifQ.8t0m5MoJW7cBkLQwNBCtAw\", \"center\": {\"lat\": 50, \"lon\": 20}, \"style\": \"light\", \"pitch\": 0, \"zoom\": 2.5}, \"height\": 500, \"autosize\": false, \"hovermode\": \"closest\", \"showlegend\": false, \"title\": \"Daniel Gottlieb Steibelt (1765-1823)\", \"width\": 750}, {\"showLink\": true, \"linkText\": \"Export to plot.ly\"})});</script>"
      ],
      "text/vnd.plotly.v1+html": [
       "<div id=\"223a77eb-80a2-4014-98fd-95fb775e4636\" style=\"height: 500px; width: 750px;\" class=\"plotly-graph-div\"></div><script type=\"text/javascript\">require([\"plotly\"], function(Plotly) { window.PLOTLYENV=window.PLOTLYENV || {};window.PLOTLYENV.BASE_URL=\"https://plot.ly\";Plotly.newPlot(\"223a77eb-80a2-4014-98fd-95fb775e4636\", [{\"text\": [\"St. Petersburg\", \"Berlin\", \"Breslau\", \"Dresden\", \"Frankfurt/Main\", \"Hannover\", \"Leipzig\", \"London\", \"Moskau\", \"M\\u00fcnchen\", \"Paris\", \"Prag\", \"Riga\", \"Sachsen\", \"St. Petersburg\", \"Vilnius\", \"Warschau\", \"Wien\", \"Berlin\"], \"uid\": \"e3e4a755-c3ec-11e8-be30-240a6473f661\", \"mode\": \"markers+lines\", \"hoverinfo\": \"text\", \"line\": {\"width\": 1}, \"marker\": {\"color\": [9.0, 3.0, 3.0, 3.0, 3.0, 3.0, 3.0, 3.0, 3.0, 3.0, 3.0, 3.0, 3.0, 3.0, 3.0, 3.0, 3.0, 3.0, 1.0], \"opacity\": 0.7, \"size\": 5, \"colorscale\": [[0, \"blue\"], [1, \"red\"]]}, \"lat\": [\"59.93428\", \"52.520007\", \"51.107885\", \"51.050409\", \"50.110922\", \"52.375892\", \"51.339696\", \"51.507351\", \"55.755826\", \"48.135125\", \"48.856614\", \"50.075538\", \"56.949649\", \"51\", \"59.93428\", \"54.6833\", \"52.229676\", \"48.208174\", \"52.520007\"], \"type\": \"scattermapbox\", \"lon\": [\"30.335099\", \"13.404954\", \"17.038538\", \"13.737262\", \"8.682127\", \"9.73201\", \"12.373075\", \"-0.127758\", \"37.6173\", \"11.58198\", \"2.352222\", \"14.4378\", \"24.105186\", \"13.25\", \"30.335099\", \"25.2667\", \"21.012229\", \"16.373819\", \"13.404954\"]}], {\"mapbox\": {\"bearing\": 0, \"accesstoken\": \"pk.eyJ1IjoibHl1YmEtZGltaXRyb3ZhIiwiYSI6ImNqbG0xdmdxdDEwYXczd25kODI5cHc2YXUifQ.8t0m5MoJW7cBkLQwNBCtAw\", \"center\": {\"lat\": 50, \"lon\": 20}, \"style\": \"light\", \"pitch\": 0, \"zoom\": 2.5}, \"height\": 500, \"autosize\": false, \"hovermode\": \"closest\", \"showlegend\": false, \"title\": \"Daniel Gottlieb Steibelt (1765-1823)\", \"width\": 750}, {\"showLink\": true, \"linkText\": \"Export to plot.ly\"})});</script>"
      ]
     },
     "metadata": {},
     "output_type": "display_data"
    }
   ],
   "source": [
    "create_map('Daniel Gottlieb Steibelt')"
   ]
  },
  {
   "cell_type": "code",
   "execution_count": 9,
   "metadata": {},
   "outputs": [
    {
     "name": "stdout",
     "output_type": "stream",
     "text": [
      "w0592\n"
     ]
    },
    {
     "data": {
      "application/vnd.plotly.v1+json": {
       "data": [
        {
         "hoverinfo": "text",
         "lat": [
          "50.110922",
          "50.825889",
          "48.76564",
          "50.503887",
          "52.520007",
          "53.079296",
          "51.050409",
          "51.227741",
          "50.110922",
          "50.946919",
          "53.551085",
          "51.312711",
          "54.710426",
          "55.676097",
          "51.339696",
          "51.507351",
          "49.992862",
          "52.132633",
          "48.856614",
          "56.949649",
          "59.93428",
          "50.979493",
          "48.208174",
          "51.339696"
         ],
         "line": {
          "width": 1
         },
         "lon": [
          "8.682127",
          "10.802939",
          "8.228524",
          "4.469936",
          "13.404954",
          "8.801694",
          "13.737262",
          "6.773456",
          "8.682127",
          "10.709288",
          "9.993682",
          "9.479746",
          "20.452214",
          "12.568337",
          "12.373075",
          "-0.127758",
          "8.247253",
          "5.291266",
          "2.352222",
          "24.105186",
          "30.335099",
          "11.323544",
          "16.373819",
          "12.373075"
         ],
         "marker": {
          "color": [
           9,
           3,
           3,
           3,
           3,
           3,
           3,
           3,
           3,
           3,
           3,
           3,
           3,
           3,
           3,
           3,
           3,
           3,
           3,
           3,
           3,
           3,
           3,
           1
          ],
          "colorscale": [
           [
            0,
            "blue"
           ],
           [
            1,
            "red"
           ]
          ],
          "opacity": 0.7,
          "size": 5
         },
         "mode": "markers+lines",
         "text": [
          "Frankfurt/Main",
          "Arnstadt",
          "Baden-Baden",
          "Belgien",
          "Berlin",
          "Bremen",
          "Dresden",
          "Düsseldorf",
          "Frankfurt/Main",
          "Gotha",
          "Hamburg",
          "Kassel",
          "Königsberg",
          "Kopenhagen",
          "Leipzig",
          "London",
          "Mainz",
          "Niederlande",
          "Paris",
          "Riga",
          "St. Petersburg",
          "Weimar",
          "Wien",
          "Leipzig"
         ],
         "type": "scattermapbox",
         "uid": "e3e4a756-c3ec-11e8-be30-240a6473f661"
        }
       ],
       "layout": {
        "autosize": false,
        "height": 500,
        "hovermode": "closest",
        "mapbox": {
         "accesstoken": "pk.eyJ1IjoibHl1YmEtZGltaXRyb3ZhIiwiYSI6ImNqbG0xdmdxdDEwYXczd25kODI5cHc2YXUifQ.8t0m5MoJW7cBkLQwNBCtAw",
         "bearing": 0,
         "center": {
          "lat": 50,
          "lon": 20
         },
         "pitch": 0,
         "style": "light",
         "zoom": 2.5
        },
        "showlegend": false,
        "title": "Clara Schumann (1819-1896)",
        "width": 750
       }
      },
      "text/html": [
       "<div id=\"f9d528a2-bb5f-4bcf-8162-7c4f5d7df179\" style=\"height: 500px; width: 750px;\" class=\"plotly-graph-div\"></div><script type=\"text/javascript\">require([\"plotly\"], function(Plotly) { window.PLOTLYENV=window.PLOTLYENV || {};window.PLOTLYENV.BASE_URL=\"https://plot.ly\";Plotly.newPlot(\"f9d528a2-bb5f-4bcf-8162-7c4f5d7df179\", [{\"text\": [\"Frankfurt/Main\", \"Arnstadt\", \"Baden-Baden\", \"Belgien\", \"Berlin\", \"Bremen\", \"Dresden\", \"D\\u00fcsseldorf\", \"Frankfurt/Main\", \"Gotha\", \"Hamburg\", \"Kassel\", \"K\\u00f6nigsberg\", \"Kopenhagen\", \"Leipzig\", \"London\", \"Mainz\", \"Niederlande\", \"Paris\", \"Riga\", \"St. Petersburg\", \"Weimar\", \"Wien\", \"Leipzig\"], \"uid\": \"e3e4a757-c3ec-11e8-be30-240a6473f661\", \"mode\": \"markers+lines\", \"hoverinfo\": \"text\", \"line\": {\"width\": 1}, \"marker\": {\"color\": [9.0, 3.0, 3.0, 3.0, 3.0, 3.0, 3.0, 3.0, 3.0, 3.0, 3.0, 3.0, 3.0, 3.0, 3.0, 3.0, 3.0, 3.0, 3.0, 3.0, 3.0, 3.0, 3.0, 1.0], \"opacity\": 0.7, \"size\": 5, \"colorscale\": [[0, \"blue\"], [1, \"red\"]]}, \"lat\": [\"50.110922\", \"50.825889\", \"48.76564\", \"50.503887\", \"52.520007\", \"53.079296\", \"51.050409\", \"51.227741\", \"50.110922\", \"50.946919\", \"53.551085\", \"51.312711\", \"54.710426\", \"55.676097\", \"51.339696\", \"51.507351\", \"49.992862\", \"52.132633\", \"48.856614\", \"56.949649\", \"59.93428\", \"50.979493\", \"48.208174\", \"51.339696\"], \"type\": \"scattermapbox\", \"lon\": [\"8.682127\", \"10.802939\", \"8.228524\", \"4.469936\", \"13.404954\", \"8.801694\", \"13.737262\", \"6.773456\", \"8.682127\", \"10.709288\", \"9.993682\", \"9.479746\", \"20.452214\", \"12.568337\", \"12.373075\", \"-0.127758\", \"8.247253\", \"5.291266\", \"2.352222\", \"24.105186\", \"30.335099\", \"11.323544\", \"16.373819\", \"12.373075\"]}], {\"mapbox\": {\"bearing\": 0, \"accesstoken\": \"pk.eyJ1IjoibHl1YmEtZGltaXRyb3ZhIiwiYSI6ImNqbG0xdmdxdDEwYXczd25kODI5cHc2YXUifQ.8t0m5MoJW7cBkLQwNBCtAw\", \"center\": {\"lat\": 50, \"lon\": 20}, \"style\": \"light\", \"pitch\": 0, \"zoom\": 2.5}, \"height\": 500, \"autosize\": false, \"hovermode\": \"closest\", \"showlegend\": false, \"title\": \"Clara Schumann (1819-1896)\", \"width\": 750}, {\"showLink\": true, \"linkText\": \"Export to plot.ly\"})});</script>"
      ],
      "text/vnd.plotly.v1+html": [
       "<div id=\"f9d528a2-bb5f-4bcf-8162-7c4f5d7df179\" style=\"height: 500px; width: 750px;\" class=\"plotly-graph-div\"></div><script type=\"text/javascript\">require([\"plotly\"], function(Plotly) { window.PLOTLYENV=window.PLOTLYENV || {};window.PLOTLYENV.BASE_URL=\"https://plot.ly\";Plotly.newPlot(\"f9d528a2-bb5f-4bcf-8162-7c4f5d7df179\", [{\"text\": [\"Frankfurt/Main\", \"Arnstadt\", \"Baden-Baden\", \"Belgien\", \"Berlin\", \"Bremen\", \"Dresden\", \"D\\u00fcsseldorf\", \"Frankfurt/Main\", \"Gotha\", \"Hamburg\", \"Kassel\", \"K\\u00f6nigsberg\", \"Kopenhagen\", \"Leipzig\", \"London\", \"Mainz\", \"Niederlande\", \"Paris\", \"Riga\", \"St. Petersburg\", \"Weimar\", \"Wien\", \"Leipzig\"], \"uid\": \"e3e4a757-c3ec-11e8-be30-240a6473f661\", \"mode\": \"markers+lines\", \"hoverinfo\": \"text\", \"line\": {\"width\": 1}, \"marker\": {\"color\": [9.0, 3.0, 3.0, 3.0, 3.0, 3.0, 3.0, 3.0, 3.0, 3.0, 3.0, 3.0, 3.0, 3.0, 3.0, 3.0, 3.0, 3.0, 3.0, 3.0, 3.0, 3.0, 3.0, 1.0], \"opacity\": 0.7, \"size\": 5, \"colorscale\": [[0, \"blue\"], [1, \"red\"]]}, \"lat\": [\"50.110922\", \"50.825889\", \"48.76564\", \"50.503887\", \"52.520007\", \"53.079296\", \"51.050409\", \"51.227741\", \"50.110922\", \"50.946919\", \"53.551085\", \"51.312711\", \"54.710426\", \"55.676097\", \"51.339696\", \"51.507351\", \"49.992862\", \"52.132633\", \"48.856614\", \"56.949649\", \"59.93428\", \"50.979493\", \"48.208174\", \"51.339696\"], \"type\": \"scattermapbox\", \"lon\": [\"8.682127\", \"10.802939\", \"8.228524\", \"4.469936\", \"13.404954\", \"8.801694\", \"13.737262\", \"6.773456\", \"8.682127\", \"10.709288\", \"9.993682\", \"9.479746\", \"20.452214\", \"12.568337\", \"12.373075\", \"-0.127758\", \"8.247253\", \"5.291266\", \"2.352222\", \"24.105186\", \"30.335099\", \"11.323544\", \"16.373819\", \"12.373075\"]}], {\"mapbox\": {\"bearing\": 0, \"accesstoken\": \"pk.eyJ1IjoibHl1YmEtZGltaXRyb3ZhIiwiYSI6ImNqbG0xdmdxdDEwYXczd25kODI5cHc2YXUifQ.8t0m5MoJW7cBkLQwNBCtAw\", \"center\": {\"lat\": 50, \"lon\": 20}, \"style\": \"light\", \"pitch\": 0, \"zoom\": 2.5}, \"height\": 500, \"autosize\": false, \"hovermode\": \"closest\", \"showlegend\": false, \"title\": \"Clara Schumann (1819-1896)\", \"width\": 750}, {\"showLink\": true, \"linkText\": \"Export to plot.ly\"})});</script>"
      ]
     },
     "metadata": {},
     "output_type": "display_data"
    }
   ],
   "source": [
    "create_map('Clara Schumann')"
   ]
  },
  {
   "cell_type": "code",
   "execution_count": 10,
   "metadata": {},
   "outputs": [
    {
     "name": "stdout",
     "output_type": "stream",
     "text": [
      "l0603\n"
     ]
    },
    {
     "data": {
      "application/vnd.plotly.v1+json": {
       "data": [
        {
         "hoverinfo": "text",
         "lat": [
          "49.94564",
          "50.979493",
          "50.775346",
          "48.00214",
          "51.732398",
          "49.94564",
          "52.520007",
          "50.73743",
          "48.148597",
          "50.85034",
          "47.497912",
          "50.979572",
          "52.355518",
          "50.984768",
          "46.227638",
          "46.204391",
          "53.551085",
          "41.87194",
          "54.710426",
          "55.676097",
          "51.339696",
          "51.507351",
          "49.815237",
          "50.802173",
          "48.135125",
          "48.856614",
          "39.5",
          "50.075538",
          "41.902784",
          "50.25",
          "57.0",
          "46.818188",
          "51.36919",
          "47.6667",
          "40.463667",
          "59.93428",
          "45.440847",
          "48.208174",
          "50.078218"
         ],
         "line": {
          "width": 1
         },
         "lon": [
          "11.571335",
          "11.323544",
          "6.083887",
          "16.23091",
          "11.074895",
          "11.571335",
          "13.404954",
          "7.098207",
          "17.107748",
          "4.35171",
          "19.040235",
          "10.314687",
          "-1.17432",
          "11.02988",
          "2.213749",
          "6.143158",
          "9.993682",
          "12.56738",
          "20.452214",
          "12.568337",
          "12.373075",
          "-0.127758",
          "6.129583",
          "8.766793",
          "11.58198",
          "2.352222",
          "-8",
          "14.4378",
          "12.496366",
          "19",
          "-4.0",
          "8.227512",
          "10.87105",
          "16.5833",
          "-3.74922",
          "30.335099",
          "12.315515",
          "16.373819",
          "8.239761"
         ],
         "marker": {
          "color": [
           9,
           3.1,
           3,
           3,
           3,
           3,
           3,
           3,
           3,
           3,
           3,
           3,
           3,
           3,
           3,
           3,
           3,
           3,
           3,
           3,
           3,
           3,
           3,
           3,
           3,
           3,
           3,
           3,
           3,
           3,
           3,
           3,
           3,
           3,
           3,
           3,
           3,
           3,
           3
          ],
          "colorscale": [
           [
            0,
            "blue"
           ],
           [
            1,
            "red"
           ]
          ],
          "opacity": 0.7,
          "size": 5
         },
         "mode": "markers+lines",
         "text": [
          "Bayreuth",
          "Weimar",
          "Aachen",
          "Baden/Wien",
          "Ballenstedt",
          "Bayreuth",
          "Berlin",
          "Bonn",
          "Bratislava",
          "Brüssel",
          "Budapest",
          "Eisenach",
          "England",
          "Erfurt",
          "Frankreich",
          "Genf",
          "Hamburg",
          "Italien",
          "Königsberg",
          "Kopenhagen",
          "Leipzig",
          "London",
          "Luxemburg",
          "Marburg",
          "München",
          "Paris",
          "Portugal",
          "Prag",
          "Rom",
          "Schlesien",
          "Schottland",
          "Schweiz",
          "Sondershausen",
          "Sopron",
          "Spanien",
          "St. Petersburg",
          "Venedig",
          "Wien",
          "Wiesbaden"
         ],
         "type": "scattermapbox",
         "uid": "e4ab1fb0-c3ec-11e8-be30-240a6473f661"
        }
       ],
       "layout": {
        "autosize": false,
        "height": 500,
        "hovermode": "closest",
        "mapbox": {
         "accesstoken": "pk.eyJ1IjoibHl1YmEtZGltaXRyb3ZhIiwiYSI6ImNqbG0xdmdxdDEwYXczd25kODI5cHc2YXUifQ.8t0m5MoJW7cBkLQwNBCtAw",
         "bearing": 0,
         "center": {
          "lat": 50,
          "lon": 20
         },
         "pitch": 0,
         "style": "light",
         "zoom": 2.5
        },
        "showlegend": false,
        "title": "Franz Liszt (1811-1886)",
        "width": 750
       }
      },
      "text/html": [
       "<div id=\"c12add59-8674-46ce-bc7f-cf9cccc378d2\" style=\"height: 500px; width: 750px;\" class=\"plotly-graph-div\"></div><script type=\"text/javascript\">require([\"plotly\"], function(Plotly) { window.PLOTLYENV=window.PLOTLYENV || {};window.PLOTLYENV.BASE_URL=\"https://plot.ly\";Plotly.newPlot(\"c12add59-8674-46ce-bc7f-cf9cccc378d2\", [{\"text\": [\"Bayreuth\", \"Weimar\", \"Aachen\", \"Baden/Wien\", \"Ballenstedt\", \"Bayreuth\", \"Berlin\", \"Bonn\", \"Bratislava\", \"Br\\u00fcssel\", \"Budapest\", \"Eisenach\", \"England\", \"Erfurt\", \"Frankreich\", \"Genf\", \"Hamburg\", \"Italien\", \"K\\u00f6nigsberg\", \"Kopenhagen\", \"Leipzig\", \"London\", \"Luxemburg\", \"Marburg\", \"M\\u00fcnchen\", \"Paris\", \"Portugal\", \"Prag\", \"Rom\", \"Schlesien\", \"Schottland\", \"Schweiz\", \"Sondershausen\", \"Sopron\", \"Spanien\", \"St. Petersburg\", \"Venedig\", \"Wien\", \"Wiesbaden\"], \"uid\": \"e4ab1fb1-c3ec-11e8-be30-240a6473f661\", \"mode\": \"markers+lines\", \"hoverinfo\": \"text\", \"line\": {\"width\": 1}, \"marker\": {\"color\": [9.0, 3.1, 3.0, 3.0, 3.0, 3.0, 3.0, 3.0, 3.0, 3.0, 3.0, 3.0, 3.0, 3.0, 3.0, 3.0, 3.0, 3.0, 3.0, 3.0, 3.0, 3.0, 3.0, 3.0, 3.0, 3.0, 3.0, 3.0, 3.0, 3.0, 3.0, 3.0, 3.0, 3.0, 3.0, 3.0, 3.0, 3.0, 3.0], \"opacity\": 0.7, \"size\": 5, \"colorscale\": [[0, \"blue\"], [1, \"red\"]]}, \"lat\": [\"49.94564\", \"50.979493\", \"50.775346\", \"48.00214\", \"51.732398\", \"49.94564\", \"52.520007\", \"50.73743\", \"48.148597\", \"50.85034\", \"47.497912\", \"50.979572\", \"52.355518\", \"50.984768\", \"46.227638\", \"46.204391\", \"53.551085\", \"41.87194\", \"54.710426\", \"55.676097\", \"51.339696\", \"51.507351\", \"49.815237\", \"50.802173\", \"48.135125\", \"48.856614\", \"39.5\", \"50.075538\", \"41.902784\", \"50.25\", \"57.0\", \"46.818188\", \"51.36919\", \"47.6667\", \"40.463667\", \"59.93428\", \"45.440847\", \"48.208174\", \"50.078218\"], \"type\": \"scattermapbox\", \"lon\": [\"11.571335\", \"11.323544\", \"6.083887\", \"16.23091\", \"11.074895\", \"11.571335\", \"13.404954\", \"7.098207\", \"17.107748\", \"4.35171\", \"19.040235\", \"10.314687\", \"-1.17432\", \"11.02988\", \"2.213749\", \"6.143158\", \"9.993682\", \"12.56738\", \"20.452214\", \"12.568337\", \"12.373075\", \"-0.127758\", \"6.129583\", \"8.766793\", \"11.58198\", \"2.352222\", \"-8\", \"14.4378\", \"12.496366\", \"19\", \"-4.0\", \"8.227512\", \"10.87105\", \"16.5833\", \"-3.74922\", \"30.335099\", \"12.315515\", \"16.373819\", \"8.239761\"]}], {\"mapbox\": {\"bearing\": 0, \"accesstoken\": \"pk.eyJ1IjoibHl1YmEtZGltaXRyb3ZhIiwiYSI6ImNqbG0xdmdxdDEwYXczd25kODI5cHc2YXUifQ.8t0m5MoJW7cBkLQwNBCtAw\", \"center\": {\"lat\": 50, \"lon\": 20}, \"style\": \"light\", \"pitch\": 0, \"zoom\": 2.5}, \"height\": 500, \"autosize\": false, \"hovermode\": \"closest\", \"showlegend\": false, \"title\": \"Franz Liszt (1811-1886)\", \"width\": 750}, {\"showLink\": true, \"linkText\": \"Export to plot.ly\"})});</script>"
      ],
      "text/vnd.plotly.v1+html": [
       "<div id=\"c12add59-8674-46ce-bc7f-cf9cccc378d2\" style=\"height: 500px; width: 750px;\" class=\"plotly-graph-div\"></div><script type=\"text/javascript\">require([\"plotly\"], function(Plotly) { window.PLOTLYENV=window.PLOTLYENV || {};window.PLOTLYENV.BASE_URL=\"https://plot.ly\";Plotly.newPlot(\"c12add59-8674-46ce-bc7f-cf9cccc378d2\", [{\"text\": [\"Bayreuth\", \"Weimar\", \"Aachen\", \"Baden/Wien\", \"Ballenstedt\", \"Bayreuth\", \"Berlin\", \"Bonn\", \"Bratislava\", \"Br\\u00fcssel\", \"Budapest\", \"Eisenach\", \"England\", \"Erfurt\", \"Frankreich\", \"Genf\", \"Hamburg\", \"Italien\", \"K\\u00f6nigsberg\", \"Kopenhagen\", \"Leipzig\", \"London\", \"Luxemburg\", \"Marburg\", \"M\\u00fcnchen\", \"Paris\", \"Portugal\", \"Prag\", \"Rom\", \"Schlesien\", \"Schottland\", \"Schweiz\", \"Sondershausen\", \"Sopron\", \"Spanien\", \"St. Petersburg\", \"Venedig\", \"Wien\", \"Wiesbaden\"], \"uid\": \"e4ab1fb1-c3ec-11e8-be30-240a6473f661\", \"mode\": \"markers+lines\", \"hoverinfo\": \"text\", \"line\": {\"width\": 1}, \"marker\": {\"color\": [9.0, 3.1, 3.0, 3.0, 3.0, 3.0, 3.0, 3.0, 3.0, 3.0, 3.0, 3.0, 3.0, 3.0, 3.0, 3.0, 3.0, 3.0, 3.0, 3.0, 3.0, 3.0, 3.0, 3.0, 3.0, 3.0, 3.0, 3.0, 3.0, 3.0, 3.0, 3.0, 3.0, 3.0, 3.0, 3.0, 3.0, 3.0, 3.0], \"opacity\": 0.7, \"size\": 5, \"colorscale\": [[0, \"blue\"], [1, \"red\"]]}, \"lat\": [\"49.94564\", \"50.979493\", \"50.775346\", \"48.00214\", \"51.732398\", \"49.94564\", \"52.520007\", \"50.73743\", \"48.148597\", \"50.85034\", \"47.497912\", \"50.979572\", \"52.355518\", \"50.984768\", \"46.227638\", \"46.204391\", \"53.551085\", \"41.87194\", \"54.710426\", \"55.676097\", \"51.339696\", \"51.507351\", \"49.815237\", \"50.802173\", \"48.135125\", \"48.856614\", \"39.5\", \"50.075538\", \"41.902784\", \"50.25\", \"57.0\", \"46.818188\", \"51.36919\", \"47.6667\", \"40.463667\", \"59.93428\", \"45.440847\", \"48.208174\", \"50.078218\"], \"type\": \"scattermapbox\", \"lon\": [\"11.571335\", \"11.323544\", \"6.083887\", \"16.23091\", \"11.074895\", \"11.571335\", \"13.404954\", \"7.098207\", \"17.107748\", \"4.35171\", \"19.040235\", \"10.314687\", \"-1.17432\", \"11.02988\", \"2.213749\", \"6.143158\", \"9.993682\", \"12.56738\", \"20.452214\", \"12.568337\", \"12.373075\", \"-0.127758\", \"6.129583\", \"8.766793\", \"11.58198\", \"2.352222\", \"-8\", \"14.4378\", \"12.496366\", \"19\", \"-4.0\", \"8.227512\", \"10.87105\", \"16.5833\", \"-3.74922\", \"30.335099\", \"12.315515\", \"16.373819\", \"8.239761\"]}], {\"mapbox\": {\"bearing\": 0, \"accesstoken\": \"pk.eyJ1IjoibHl1YmEtZGltaXRyb3ZhIiwiYSI6ImNqbG0xdmdxdDEwYXczd25kODI5cHc2YXUifQ.8t0m5MoJW7cBkLQwNBCtAw\", \"center\": {\"lat\": 50, \"lon\": 20}, \"style\": \"light\", \"pitch\": 0, \"zoom\": 2.5}, \"height\": 500, \"autosize\": false, \"hovermode\": \"closest\", \"showlegend\": false, \"title\": \"Franz Liszt (1811-1886)\", \"width\": 750}, {\"showLink\": true, \"linkText\": \"Export to plot.ly\"})});</script>"
      ]
     },
     "metadata": {},
     "output_type": "display_data"
    }
   ],
   "source": [
    "create_map('Franz Liszt')"
   ]
  },
  {
   "cell_type": "code",
   "execution_count": 11,
   "metadata": {},
   "outputs": [
    {
     "name": "stdout",
     "output_type": "stream",
     "text": [
      "c0132\n"
     ]
    },
    {
     "data": {
      "application/vnd.plotly.v1+json": {
       "data": [
        {
         "hoverinfo": "text",
         "lat": [
          "48.856614",
          "48.856614",
          "50.775346",
          "52.520007",
          "51.107885",
          "51.050409",
          "51.227741",
          "55.953252",
          "50.231852",
          "51.339696",
          "51.507351",
          "43.296482",
          "48.135125",
          "50.075538",
          "47.80949",
          "48.775846",
          "52.229676",
          "48.208174"
         ],
         "line": {
          "width": 1
         },
         "lon": [
          "2.352222",
          "2.352222",
          "6.083887",
          "13.404954",
          "17.038538",
          "13.737262",
          "6.773456",
          "-3.188267",
          "12.871962",
          "12.373075",
          "-0.127758",
          "5.36978",
          "11.58198",
          "14.4378",
          "13.05501",
          "9.182932",
          "21.012229",
          "16.373819"
         ],
         "marker": {
          "color": [
           9,
           3.1,
           3,
           3,
           3,
           3,
           3,
           3,
           3,
           3,
           3,
           3,
           3,
           3,
           3,
           3,
           3,
           3
          ],
          "colorscale": [
           [
            0,
            "blue"
           ],
           [
            1,
            "red"
           ]
          ],
          "opacity": 0.7,
          "size": 5
         },
         "mode": "markers+lines",
         "text": [
          "Paris",
          "Paris",
          "Aachen",
          "Berlin",
          "Breslau",
          "Dresden",
          "Düsseldorf",
          "Edinburgh",
          "Karlsbad",
          "Leipzig",
          "London",
          "Marseille",
          "München",
          "Prag",
          "Salzburg",
          "Stuttgart",
          "Warschau",
          "Wien"
         ],
         "type": "scattermapbox",
         "uid": "e4ab1fb2-c3ec-11e8-be30-240a6473f661"
        }
       ],
       "layout": {
        "autosize": false,
        "height": 500,
        "hovermode": "closest",
        "mapbox": {
         "accesstoken": "pk.eyJ1IjoibHl1YmEtZGltaXRyb3ZhIiwiYSI6ImNqbG0xdmdxdDEwYXczd25kODI5cHc2YXUifQ.8t0m5MoJW7cBkLQwNBCtAw",
         "bearing": 0,
         "center": {
          "lat": 50,
          "lon": 20
         },
         "pitch": 0,
         "style": "light",
         "zoom": 2.5
        },
        "showlegend": false,
        "title": "Frédéric Chopin (1810-1849)",
        "width": 750
       }
      },
      "text/html": [
       "<div id=\"3f9e8e23-f47f-42b0-b0ac-f6217e97cc42\" style=\"height: 500px; width: 750px;\" class=\"plotly-graph-div\"></div><script type=\"text/javascript\">require([\"plotly\"], function(Plotly) { window.PLOTLYENV=window.PLOTLYENV || {};window.PLOTLYENV.BASE_URL=\"https://plot.ly\";Plotly.newPlot(\"3f9e8e23-f47f-42b0-b0ac-f6217e97cc42\", [{\"text\": [\"Paris\", \"Paris\", \"Aachen\", \"Berlin\", \"Breslau\", \"Dresden\", \"D\\u00fcsseldorf\", \"Edinburgh\", \"Karlsbad\", \"Leipzig\", \"London\", \"Marseille\", \"M\\u00fcnchen\", \"Prag\", \"Salzburg\", \"Stuttgart\", \"Warschau\", \"Wien\"], \"uid\": \"e4ab1fb3-c3ec-11e8-be30-240a6473f661\", \"mode\": \"markers+lines\", \"hoverinfo\": \"text\", \"line\": {\"width\": 1}, \"marker\": {\"color\": [9.0, 3.1, 3.0, 3.0, 3.0, 3.0, 3.0, 3.0, 3.0, 3.0, 3.0, 3.0, 3.0, 3.0, 3.0, 3.0, 3.0, 3.0], \"opacity\": 0.7, \"size\": 5, \"colorscale\": [[0, \"blue\"], [1, \"red\"]]}, \"lat\": [\"48.856614\", \"48.856614\", \"50.775346\", \"52.520007\", \"51.107885\", \"51.050409\", \"51.227741\", \"55.953252\", \"50.231852\", \"51.339696\", \"51.507351\", \"43.296482\", \"48.135125\", \"50.075538\", \"47.80949\", \"48.775846\", \"52.229676\", \"48.208174\"], \"type\": \"scattermapbox\", \"lon\": [\"2.352222\", \"2.352222\", \"6.083887\", \"13.404954\", \"17.038538\", \"13.737262\", \"6.773456\", \"-3.188267\", \"12.871962\", \"12.373075\", \"-0.127758\", \"5.36978\", \"11.58198\", \"14.4378\", \"13.05501\", \"9.182932\", \"21.012229\", \"16.373819\"]}], {\"mapbox\": {\"bearing\": 0, \"accesstoken\": \"pk.eyJ1IjoibHl1YmEtZGltaXRyb3ZhIiwiYSI6ImNqbG0xdmdxdDEwYXczd25kODI5cHc2YXUifQ.8t0m5MoJW7cBkLQwNBCtAw\", \"center\": {\"lat\": 50, \"lon\": 20}, \"style\": \"light\", \"pitch\": 0, \"zoom\": 2.5}, \"height\": 500, \"autosize\": false, \"hovermode\": \"closest\", \"showlegend\": false, \"title\": \"Fr\\u00e9d\\u00e9ric Chopin (1810-1849)\", \"width\": 750}, {\"showLink\": true, \"linkText\": \"Export to plot.ly\"})});</script>"
      ],
      "text/vnd.plotly.v1+html": [
       "<div id=\"3f9e8e23-f47f-42b0-b0ac-f6217e97cc42\" style=\"height: 500px; width: 750px;\" class=\"plotly-graph-div\"></div><script type=\"text/javascript\">require([\"plotly\"], function(Plotly) { window.PLOTLYENV=window.PLOTLYENV || {};window.PLOTLYENV.BASE_URL=\"https://plot.ly\";Plotly.newPlot(\"3f9e8e23-f47f-42b0-b0ac-f6217e97cc42\", [{\"text\": [\"Paris\", \"Paris\", \"Aachen\", \"Berlin\", \"Breslau\", \"Dresden\", \"D\\u00fcsseldorf\", \"Edinburgh\", \"Karlsbad\", \"Leipzig\", \"London\", \"Marseille\", \"M\\u00fcnchen\", \"Prag\", \"Salzburg\", \"Stuttgart\", \"Warschau\", \"Wien\"], \"uid\": \"e4ab1fb3-c3ec-11e8-be30-240a6473f661\", \"mode\": \"markers+lines\", \"hoverinfo\": \"text\", \"line\": {\"width\": 1}, \"marker\": {\"color\": [9.0, 3.1, 3.0, 3.0, 3.0, 3.0, 3.0, 3.0, 3.0, 3.0, 3.0, 3.0, 3.0, 3.0, 3.0, 3.0, 3.0, 3.0], \"opacity\": 0.7, \"size\": 5, \"colorscale\": [[0, \"blue\"], [1, \"red\"]]}, \"lat\": [\"48.856614\", \"48.856614\", \"50.775346\", \"52.520007\", \"51.107885\", \"51.050409\", \"51.227741\", \"55.953252\", \"50.231852\", \"51.339696\", \"51.507351\", \"43.296482\", \"48.135125\", \"50.075538\", \"47.80949\", \"48.775846\", \"52.229676\", \"48.208174\"], \"type\": \"scattermapbox\", \"lon\": [\"2.352222\", \"2.352222\", \"6.083887\", \"13.404954\", \"17.038538\", \"13.737262\", \"6.773456\", \"-3.188267\", \"12.871962\", \"12.373075\", \"-0.127758\", \"5.36978\", \"11.58198\", \"14.4378\", \"13.05501\", \"9.182932\", \"21.012229\", \"16.373819\"]}], {\"mapbox\": {\"bearing\": 0, \"accesstoken\": \"pk.eyJ1IjoibHl1YmEtZGltaXRyb3ZhIiwiYSI6ImNqbG0xdmdxdDEwYXczd25kODI5cHc2YXUifQ.8t0m5MoJW7cBkLQwNBCtAw\", \"center\": {\"lat\": 50, \"lon\": 20}, \"style\": \"light\", \"pitch\": 0, \"zoom\": 2.5}, \"height\": 500, \"autosize\": false, \"hovermode\": \"closest\", \"showlegend\": false, \"title\": \"Fr\\u00e9d\\u00e9ric Chopin (1810-1849)\", \"width\": 750}, {\"showLink\": true, \"linkText\": \"Export to plot.ly\"})});</script>"
      ]
     },
     "metadata": {},
     "output_type": "display_data"
    }
   ],
   "source": [
    "create_map('Frédéric Chopin')"
   ]
  },
  {
   "cell_type": "code",
   "execution_count": 12,
   "metadata": {},
   "outputs": [
    {
     "name": "stdout",
     "output_type": "stream",
     "text": [
      "b0831\n"
     ]
    },
    {
     "data": {
      "application/vnd.plotly.v1+json": {
       "data": [
        {
         "hoverinfo": "text",
         "lat": [
          "48.208174",
          "47.707797",
          "48.76564",
          "50.73743",
          "51.107885",
          "52.645766",
          "56.26392",
          "51.227741",
          "51.54128",
          "53.551085",
          "52.375892",
          "52.154778",
          "41.87194",
          "50.231852",
          "51.339696",
          "53.2500",
          "52.132633",
          "47.516231",
          "46.818188",
          "47.162494",
          "50.979493",
          "48.208174",
          "50.078218",
          "53.551085"
         ],
         "line": {
          "width": 1
         },
         "lon": [
          "16.373819",
          "13.581164",
          "8.228524",
          "7.098207",
          "17.038538",
          "9.9574625",
          "9.501785",
          "6.773456",
          "9.915804",
          "9.993682",
          "9.73201",
          "9.957965",
          "12.56738",
          "12.871962",
          "12.373075",
          "10.4000",
          "5.291266",
          "14.550072",
          "8.227512",
          "19.503304",
          "11.323544",
          "16.373819",
          "8.239761",
          "9.993682"
         ],
         "marker": {
          "color": [
           9,
           3,
           3,
           3,
           3,
           3,
           3,
           3,
           3,
           3,
           3,
           3,
           3,
           3,
           3,
           3,
           3,
           3,
           3,
           3,
           3,
           3,
           3,
           1
          ],
          "colorscale": [
           [
            0,
            "blue"
           ],
           [
            1,
            "red"
           ]
          ],
          "opacity": 0.7,
          "size": 5
         },
         "mode": "markers+lines",
         "text": [
          "Wien",
          "Bad Ischl",
          "Baden-Baden",
          "Bonn",
          "Breslau",
          "Celle",
          "Dänemark",
          "Düsseldorf",
          "Göttingen",
          "Hamburg",
          "Hannover",
          "Hildesheim",
          "Italien",
          "Karlsbad",
          "Leipzig",
          "Lüneburg",
          "Niederlande",
          "österreich",
          "Schweiz",
          "Ungarn",
          "Weimar",
          "Wien",
          "Wiesbaden",
          "Hamburg"
         ],
         "type": "scattermapbox",
         "uid": "e4ab1fb4-c3ec-11e8-be30-240a6473f661"
        }
       ],
       "layout": {
        "autosize": false,
        "height": 500,
        "hovermode": "closest",
        "mapbox": {
         "accesstoken": "pk.eyJ1IjoibHl1YmEtZGltaXRyb3ZhIiwiYSI6ImNqbG0xdmdxdDEwYXczd25kODI5cHc2YXUifQ.8t0m5MoJW7cBkLQwNBCtAw",
         "bearing": 0,
         "center": {
          "lat": 50,
          "lon": 20
         },
         "pitch": 0,
         "style": "light",
         "zoom": 2.5
        },
        "showlegend": false,
        "title": "Johannes Brahms (1833-1897)",
        "width": 750
       }
      },
      "text/html": [
       "<div id=\"982b50d0-dc6b-4cb3-9f8d-ee4e94fd98f7\" style=\"height: 500px; width: 750px;\" class=\"plotly-graph-div\"></div><script type=\"text/javascript\">require([\"plotly\"], function(Plotly) { window.PLOTLYENV=window.PLOTLYENV || {};window.PLOTLYENV.BASE_URL=\"https://plot.ly\";Plotly.newPlot(\"982b50d0-dc6b-4cb3-9f8d-ee4e94fd98f7\", [{\"text\": [\"Wien\", \"Bad Ischl\", \"Baden-Baden\", \"Bonn\", \"Breslau\", \"Celle\", \"D\\u00e4nemark\", \"D\\u00fcsseldorf\", \"G\\u00f6ttingen\", \"Hamburg\", \"Hannover\", \"Hildesheim\", \"Italien\", \"Karlsbad\", \"Leipzig\", \"L\\u00fcneburg\", \"Niederlande\", \"\\u00f6sterreich\", \"Schweiz\", \"Ungarn\", \"Weimar\", \"Wien\", \"Wiesbaden\", \"Hamburg\"], \"uid\": \"e4ab1fb5-c3ec-11e8-be30-240a6473f661\", \"mode\": \"markers+lines\", \"hoverinfo\": \"text\", \"line\": {\"width\": 1}, \"marker\": {\"color\": [9.0, 3.0, 3.0, 3.0, 3.0, 3.0, 3.0, 3.0, 3.0, 3.0, 3.0, 3.0, 3.0, 3.0, 3.0, 3.0, 3.0, 3.0, 3.0, 3.0, 3.0, 3.0, 3.0, 1.0], \"opacity\": 0.7, \"size\": 5, \"colorscale\": [[0, \"blue\"], [1, \"red\"]]}, \"lat\": [\"48.208174\", \"47.707797\", \"48.76564\", \"50.73743\", \"51.107885\", \"52.645766\", \"56.26392\", \"51.227741\", \"51.54128\", \"53.551085\", \"52.375892\", \"52.154778\", \"41.87194\", \"50.231852\", \"51.339696\", \"53.2500\", \"52.132633\", \"47.516231\", \"46.818188\", \"47.162494\", \"50.979493\", \"48.208174\", \"50.078218\", \"53.551085\"], \"type\": \"scattermapbox\", \"lon\": [\"16.373819\", \"13.581164\", \"8.228524\", \"7.098207\", \"17.038538\", \"9.9574625\", \"9.501785\", \"6.773456\", \"9.915804\", \"9.993682\", \"9.73201\", \"9.957965\", \"12.56738\", \"12.871962\", \"12.373075\", \"10.4000\", \"5.291266\", \"14.550072\", \"8.227512\", \"19.503304\", \"11.323544\", \"16.373819\", \"8.239761\", \"9.993682\"]}], {\"mapbox\": {\"bearing\": 0, \"accesstoken\": \"pk.eyJ1IjoibHl1YmEtZGltaXRyb3ZhIiwiYSI6ImNqbG0xdmdxdDEwYXczd25kODI5cHc2YXUifQ.8t0m5MoJW7cBkLQwNBCtAw\", \"center\": {\"lat\": 50, \"lon\": 20}, \"style\": \"light\", \"pitch\": 0, \"zoom\": 2.5}, \"height\": 500, \"autosize\": false, \"hovermode\": \"closest\", \"showlegend\": false, \"title\": \"Johannes Brahms (1833-1897)\", \"width\": 750}, {\"showLink\": true, \"linkText\": \"Export to plot.ly\"})});</script>"
      ],
      "text/vnd.plotly.v1+html": [
       "<div id=\"982b50d0-dc6b-4cb3-9f8d-ee4e94fd98f7\" style=\"height: 500px; width: 750px;\" class=\"plotly-graph-div\"></div><script type=\"text/javascript\">require([\"plotly\"], function(Plotly) { window.PLOTLYENV=window.PLOTLYENV || {};window.PLOTLYENV.BASE_URL=\"https://plot.ly\";Plotly.newPlot(\"982b50d0-dc6b-4cb3-9f8d-ee4e94fd98f7\", [{\"text\": [\"Wien\", \"Bad Ischl\", \"Baden-Baden\", \"Bonn\", \"Breslau\", \"Celle\", \"D\\u00e4nemark\", \"D\\u00fcsseldorf\", \"G\\u00f6ttingen\", \"Hamburg\", \"Hannover\", \"Hildesheim\", \"Italien\", \"Karlsbad\", \"Leipzig\", \"L\\u00fcneburg\", \"Niederlande\", \"\\u00f6sterreich\", \"Schweiz\", \"Ungarn\", \"Weimar\", \"Wien\", \"Wiesbaden\", \"Hamburg\"], \"uid\": \"e4ab1fb5-c3ec-11e8-be30-240a6473f661\", \"mode\": \"markers+lines\", \"hoverinfo\": \"text\", \"line\": {\"width\": 1}, \"marker\": {\"color\": [9.0, 3.0, 3.0, 3.0, 3.0, 3.0, 3.0, 3.0, 3.0, 3.0, 3.0, 3.0, 3.0, 3.0, 3.0, 3.0, 3.0, 3.0, 3.0, 3.0, 3.0, 3.0, 3.0, 1.0], \"opacity\": 0.7, \"size\": 5, \"colorscale\": [[0, \"blue\"], [1, \"red\"]]}, \"lat\": [\"48.208174\", \"47.707797\", \"48.76564\", \"50.73743\", \"51.107885\", \"52.645766\", \"56.26392\", \"51.227741\", \"51.54128\", \"53.551085\", \"52.375892\", \"52.154778\", \"41.87194\", \"50.231852\", \"51.339696\", \"53.2500\", \"52.132633\", \"47.516231\", \"46.818188\", \"47.162494\", \"50.979493\", \"48.208174\", \"50.078218\", \"53.551085\"], \"type\": \"scattermapbox\", \"lon\": [\"16.373819\", \"13.581164\", \"8.228524\", \"7.098207\", \"17.038538\", \"9.9574625\", \"9.501785\", \"6.773456\", \"9.915804\", \"9.993682\", \"9.73201\", \"9.957965\", \"12.56738\", \"12.871962\", \"12.373075\", \"10.4000\", \"5.291266\", \"14.550072\", \"8.227512\", \"19.503304\", \"11.323544\", \"16.373819\", \"8.239761\", \"9.993682\"]}], {\"mapbox\": {\"bearing\": 0, \"accesstoken\": \"pk.eyJ1IjoibHl1YmEtZGltaXRyb3ZhIiwiYSI6ImNqbG0xdmdxdDEwYXczd25kODI5cHc2YXUifQ.8t0m5MoJW7cBkLQwNBCtAw\", \"center\": {\"lat\": 50, \"lon\": 20}, \"style\": \"light\", \"pitch\": 0, \"zoom\": 2.5}, \"height\": 500, \"autosize\": false, \"hovermode\": \"closest\", \"showlegend\": false, \"title\": \"Johannes Brahms (1833-1897)\", \"width\": 750}, {\"showLink\": true, \"linkText\": \"Export to plot.ly\"})});</script>"
      ]
     },
     "metadata": {},
     "output_type": "display_data"
    }
   ],
   "source": [
    "create_map('Johannes Brahms')"
   ]
  }
 ],
 "metadata": {
  "kernelspec": {
   "display_name": "Python 3",
   "language": "python",
   "name": "python3"
  },
  "language_info": {
   "codemirror_mode": {
    "name": "ipython",
    "version": 3
   },
   "file_extension": ".py",
   "mimetype": "text/x-python",
   "name": "python",
   "nbconvert_exporter": "python",
   "pygments_lexer": "ipython3",
   "version": "3.5.2"
  }
 },
 "nbformat": 4,
 "nbformat_minor": 2
}
